{
 "cells": [
  {
   "cell_type": "markdown",
   "metadata": {},
   "source": []
  },
  {
   "cell_type": "markdown",
   "metadata": {},
   "source": [
    "## Hidden Markov Model with POS Tagging\n",
    "\n",
    "Part of Speech Tag ([POS Tag](https://en.wikipedia.org/wiki/Part-of-speech_tagging) / Grammatical Tag) is a part of natural language processing task. The problem is \"given a sequence of word, what are the postags for these words?\". \n",
    "\n",
    "### Example of POS Tag \n",
    "If you understand this writing, I'm pretty sure you have heard categorization of words, like: noun, verb, adjective, etc. Well, those are POS Tag! But then we now have more POS Tag then you have teached in English! (you can see [here](http://universaldependencies.org/u/pos/))\n",
    "\n",
    "For example this word:\n",
    "\n",
    "    **\"I like sushi\"**\n",
    "\n",
    "could be broken down into:\n",
    "\n",
    "| I |like | sushi|\n",
    "|--|--|--|\n",
    "| PRON | VERB | NOUN |\n",
    "\n",
    "Where,\n",
    "\n",
    "PRON = pronoun\n",
    "\n",
    "VERB = verb\n",
    "\n",
    "NOUN = noun\n",
    "\n",
    "\n",
    "So now how do we make the Model for natural language processing?\n",
    "    "
   ]
  },
  {
   "cell_type": "code",
   "execution_count": null,
   "metadata": {},
   "outputs": [],
   "source": []
  },
  {
   "cell_type": "markdown",
   "metadata": {},
   "source": [
    "## References\n",
    "- https://en.wikipedia.org/wiki/Part-of-speech_tagging\n",
    "- http://universaldependencies.org/u/pos/\n",
    "- https://parts-of-speech.info/"
   ]
  },
  {
   "cell_type": "code",
   "execution_count": null,
   "metadata": {},
   "outputs": [],
   "source": []
  }
 ],
 "metadata": {
  "kernelspec": {
   "display_name": "Python 3",
   "language": "python",
   "name": "python3"
  },
  "language_info": {
   "codemirror_mode": {
    "name": "ipython",
    "version": 3
   },
   "file_extension": ".py",
   "mimetype": "text/x-python",
   "name": "python",
   "nbconvert_exporter": "python",
   "pygments_lexer": "ipython3",
   "version": "3.5.4"
  }
 },
 "nbformat": 4,
 "nbformat_minor": 2
}
