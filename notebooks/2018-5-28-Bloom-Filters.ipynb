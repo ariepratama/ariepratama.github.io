{
 "cells": [
  {
   "cell_type": "markdown",
   "metadata": {},
   "source": [
    "# [Draft] Data Structure Series - Bloom Filter\n",
    "\n",
    "## What is it?\n",
    "It is a probabilistic data structure, that is commonly used to ask question \"whether an element is in it or not?\". From my description, it does seems like a job that [Set](https://brilliant.org/wiki/sets-adt/) can do, sooo...\n",
    "\n",
    "## Why Should We Use It?\n",
    "The major advantage of Bloom Filter is [space complexity](https://www.cs.northwestern.edu/academics/courses/311/html/space-complexity.html), while other data structures, such as Set and HashTable requires to store the data itself, Bloom Filter does not requires data storing. \n",
    "\n",
    "## When Should We Use It?\n",
    "Although Bloom filter has major space complexity advantage, yet it can only answer in probabilistic term: whether an item is \"possibly in the filter\" or \"not a chance in the filter\". Because of this characteristic of Bloom filter, you will only want to use it if :\n",
    "1. You need better space complexity.\n",
    "2. You can tolerate false positives.\n",
    "3. You would not need to delete items from the filter. Simple bloom filter cannot support removal operation.\n",
    "\n",
    "## How Should We Implement It?\n",
    "There are a couple of components to implement the bloom filter."
   ]
  },
  {
   "cell_type": "markdown",
   "metadata": {},
   "source": [
    "### A Simple Bloom Filter"
   ]
  },
  {
   "cell_type": "code",
   "execution_count": 49,
   "metadata": {},
   "outputs": [],
   "source": [
    "import sys\n",
    "import math\n",
    "# using murmur hashing function because it returns integer\n",
    "import mmh3"
   ]
  },
  {
   "cell_type": "code",
   "execution_count": 23,
   "metadata": {},
   "outputs": [],
   "source": [
    "# use bitarray to manage our main data structure\n",
    "from bitarray import bitarray"
   ]
  },
  {
   "cell_type": "code",
   "execution_count": 93,
   "metadata": {},
   "outputs": [],
   "source": [
    "class SimpleBloomFilter(object):\n",
    "    def __init__(self, hash_fn, m, fpr):\n",
    "        self._fpr = fpr\n",
    "        self._hash_fn = hash_fn\n",
    "        \n",
    "        # size of bitarray that we should construct\n",
    "        self.size = int(-(m * math.log(fpr)) / (math.log(2) ** 2))\n",
    "        \n",
    "        # k = how many time should we do the hash\n",
    "        self._k = math.ceil((m/self.size) * math.log(2))\n",
    "        \n",
    "        # construct and initialize the bit array\n",
    "        self._bit_array = bitarray(self.size)\n",
    "        self._bit_array.setall(0)\n",
    "        \n",
    "    def add(self, item):\n",
    "\n",
    "        for i in range(self._k):\n",
    "            digest = self._hash_fn.hash(item, i) % self.size\n",
    "            # set the bit into 1\n",
    "            self._bit_array[digest] = 1\n",
    "    \n",
    "    def is_possibly_exists(self, item):\n",
    "        for i in range(self._k):\n",
    "            digest = self._hash_fn.hash(item, i) % self.size\n",
    "            # check if the digest is in bit array\n",
    "            # if there is one 0 found in bit_array, then\n",
    "            # the item does not exists at all\n",
    "            if not self._bit_array[digest]:\n",
    "                return False\n",
    "            \n",
    "        return True\n",
    "    "
   ]
  },
  {
   "cell_type": "markdown",
   "metadata": {},
   "source": [
    "After we have constructed the simple bloom filter class, we are now ready to test this out!"
   ]
  },
  {
   "cell_type": "code",
   "execution_count": 70,
   "metadata": {},
   "outputs": [
    {
     "name": "stdout",
     "output_type": "stream",
     "text": [
      "is `hello world` exists in the filter? True\n",
      "is `hello 1` exists in the filter? True\n",
      "is `hello3` exists in the filter? True\n",
      "is `not exists` exists in the filter? False\n"
     ]
    }
   ],
   "source": [
    "test_elements = [\n",
    "    'hello world',\n",
    "    'hello 1',\n",
    "    'hello3'\n",
    "]\n",
    "bf = SimpleBloomFilter(mmh3, len(test_elements), 0.01)\n",
    "for el in test_elements:\n",
    "    bf.add(el)\n",
    "    \n",
    "for el in test_elements:\n",
    "    print('is `{}` exists in the filter? {}'.format(el, bf.is_possibly_exists(el)))\n",
    "\n",
    "test1 = 'not exists'\n",
    "print('is `{}` exists in the filter? {}'.format(test1, bf.is_possibly_exists(test1)))"
   ]
  },
  {
   "cell_type": "markdown",
   "metadata": {},
   "source": [
    "It turns out working like we are expecting! Hurray! Now we want to see how much space that we save for implementing the bloom filter"
   ]
  },
  {
   "cell_type": "code",
   "execution_count": 71,
   "metadata": {},
   "outputs": [
    {
     "name": "stdout",
     "output_type": "stream",
     "text": [
      "size of test elements: 88 bytes\n",
      "size of bloom filters: 56 bytes\n"
     ]
    }
   ],
   "source": [
    "print('size of test elements: {} bytes'.format(sys.getsizeof(test_elements)))\n",
    "print('size of bloom filters: {} bytes'.format(sys.getsizeof(bf)))"
   ]
  },
  {
   "cell_type": "markdown",
   "metadata": {},
   "source": [
    "It doesn't seems to be much of saving, eh? Let's simulate it with larger elements!\n",
    "\n",
    "\n",
    "![bigger](https://media.giphy.com/media/12TZXEURLhb7fG/giphy.gif)"
   ]
  },
  {
   "cell_type": "code",
   "execution_count": 109,
   "metadata": {},
   "outputs": [],
   "source": [
    "import hashlib\n",
    "\n",
    "def simulate_bloom_filter_size(element_size):\n",
    "    # generate larger test elements\n",
    "    test_elements = list()\n",
    "    test_element_length = element_size\n",
    "    bf = SimpleBloomFilter(mmh3, test_element_length, 0.01)\n",
    "\n",
    "    for i in range(test_element_length):\n",
    "        str_generator = hashlib.md5('{}'.format(i).encode())\n",
    "        el = str_generator.hexdigest()\n",
    "        test_elements.append(el)\n",
    "    \n",
    "    return (sys.getsizeof(test_elements), sys.getsizeof(bf._bit_array), bf)"
   ]
  },
  {
   "cell_type": "code",
   "execution_count": 110,
   "metadata": {},
   "outputs": [
    {
     "name": "stdout",
     "output_type": "stream",
     "text": [
      "With 10000 Elements\n",
      "------------------------------------------\n",
      "size of test elements: 87,624 bytes\n",
      "size of bloom filters: 96 bytes\n"
     ]
    }
   ],
   "source": [
    "el_size = 10000\n",
    "print('With {} Elements'.format(el_size))\n",
    "print('------------------------------------------')\n",
    "data_size, bf_size, _ = simulate_bloom_filter_size(el_size)\n",
    "print('size of test elements: {:,} bytes'.format(data_size))\n",
    "print('size of bloom filters: {:,} bytes'.format(bf_size))"
   ]
  },
  {
   "cell_type": "markdown",
   "metadata": {},
   "source": [
    "<center>\n",
    "  ![more](https://media.giphy.com/media/l1IY1i4qQ6pwSw5dC/giphy.gif)\n",
    "</center>\n",
    "\n",
    "Okay we got this, but we want to know more! what if we extends until 100000?"
   ]
  },
  {
   "cell_type": "code",
   "execution_count": 111,
   "metadata": {},
   "outputs": [],
   "source": [
    "import numpy as np\n",
    "import matplotlib.pyplot as plt"
   ]
  },
  {
   "cell_type": "code",
   "execution_count": 112,
   "metadata": {},
   "outputs": [
    {
     "data": {
      "image/png": "[encoded data removed]",
      "text/plain": [
       "<matplotlib.figure.Figure at 0x7f41da298e80>"
      ]
     },
     "metadata": {},
     "output_type": "display_data"
    }
   ],
   "source": [
    "observation_len = 50\n",
    "c = np.linspace(1, 100000, observation_len)\n",
    "data_sizes = list()\n",
    "bf_sizes = list()\n",
    "for el_size in c:\n",
    "    data_size, bf_size, bf = simulate_bloom_filter_size(int(el_size))\n",
    "    data_sizes.append(data_size)\n",
    "    bf_sizes.append(bf_size)\n",
    "\n",
    "f, ax = plt.subplots(figsize=(11, 9))\n",
    "plt.title('Data vs Bloom Filter Size in Bytes')\n",
    "plt.plot(np.arange(observation_len), data_sizes, label='Data Size')\n",
    "plt.plot(np.arange(observation_len), bf_sizes, label='Bloom Filter Size')\n",
    "plt.legend()\n",
    "plt.show()"
   ]
  },
  {
   "cell_type": "code",
   "execution_count": 114,
   "metadata": {},
   "outputs": [
    {
     "name": "stdout",
     "output_type": "stream",
     "text": [
      "largest data size: 824,464 bytes\n",
      "largest bloom filter size: 96 bytes\n"
     ]
    }
   ],
   "source": [
    "print('largest data size: {:,} bytes'.format(data_sizes[-1]))\n",
    "print('largest bloom filter size: {:,} bytes'.format(bf_sizes[-1]))"
   ]
  },
  {
   "cell_type": "markdown",
   "metadata": {},
   "source": [
    "# Conclusion\n",
    "1. Bloom Filter is awsome! (if you have matched the condition to use it!)\n",
    "\n",
    "<center>\n",
    "![awesome](https://media.giphy.com/media/d2Z9QYzA2aidiWn6/giphy.gif)\n",
    "</center>"
   ]
  },
  {
   "cell_type": "markdown",
   "metadata": {},
   "source": [
    "# References\n",
    "- https://en.wikipedia.org/wiki/Bloom_filter\n",
    "- https://stackoverflow.com/questions/11669178/how-to-create-an-array-of-bits-in-python\n",
    "- https://www.geeksforgeeks.org/bloom-filters-introduction-and-python-implementation/\n",
    "- https://stackoverflow.com/questions/449560/how-do-i-determine-the-size-of-an-object-in-python"
   ]
  }
 ],
 "metadata": {
  "kernelspec": {
   "display_name": "Python 3",
   "language": "python",
   "name": "python3"
  },
  "language_info": {
   "codemirror_mode": {
    "name": "ipython",
    "version": 3
   },
   "file_extension": ".py",
   "mimetype": "text/x-python",
   "name": "python",
   "nbconvert_exporter": "python",
   "pygments_lexer": "ipython3",
   "version": "3.5.4"
  }
 },
 "nbformat": 4,
 "nbformat_minor": 2
}
